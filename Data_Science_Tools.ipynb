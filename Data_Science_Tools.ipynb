{
  "nbformat": 4,
  "nbformat_minor": 0,
  "metadata": {
    "colab": {
      "provenance": []
    },
    "kernelspec": {
      "name": "python3",
      "display_name": "Python 3"
    },
    "language_info": {
      "name": "python"
    }
  },
  "cells": [
    {
      "cell_type": "markdown",
      "source": [
        "# Final Project Data Science Tools"
      ],
      "metadata": {
        "id": "sDmLgkC0FTUe"
      }
    },
    {
      "cell_type": "markdown",
      "source": [
        "## Introduction\n",
        "This notebook serves as the project for coursera course.\n"
      ],
      "metadata": {
        "id": "1r7BSuV_FdVi"
      }
    },
    {
      "cell_type": "markdown",
      "source": [
        "## Data Science Languages\n",
        "Common languages used by data scientists include:\n",
        "1. Python\n",
        "2. R\n",
        "3. SQL\n"
      ],
      "metadata": {
        "id": "r7260o5LFp_n"
      }
    },
    {
      "cell_type": "markdown",
      "source": [
        "## Data Science Libraries\n",
        "1. Pandas\n",
        "2. Scikit-learn\n",
        "3. TensorFlow\n"
      ],
      "metadata": {
        "id": "uJsL8HPwFvQR"
      }
    },
    {
      "cell_type": "markdown",
      "source": [
        "## Data Science Tools\n",
        "| Tool        | Category        |\n",
        "|-------------|----------------|\n",
        "| JupyterLab  | Notebook    |\n",
        "| RStudio     | Notebook    |\n"
      ],
      "metadata": {
        "id": "WD02AljWF696"
      }
    },
    {
      "cell_type": "markdown",
      "source": [
        "## Examples of Arithmetic Expressions\n",
        "Below are some simple examples of expressions in Python.\n"
      ],
      "metadata": {
        "id": "XNOJMsi1GAEu"
      }
    },
    {
      "cell_type": "code",
      "source": [
        "result = (1 * 1) + 5\n",
        "result"
      ],
      "metadata": {
        "colab": {
          "base_uri": "https://localhost:8080/"
        },
        "id": "wTciS8PLFiI5",
        "outputId": "c189994a-c127-4449-bb55-b94b9f60c760"
      },
      "execution_count": 3,
      "outputs": [
        {
          "output_type": "execute_result",
          "data": {
            "text/plain": [
              "6"
            ]
          },
          "metadata": {},
          "execution_count": 3
        }
      ]
    },
    {
      "cell_type": "code",
      "source": [
        "minutes = 360\n",
        "hours = minutes / 60\n",
        "hours\n"
      ],
      "metadata": {
        "colab": {
          "base_uri": "https://localhost:8080/"
        },
        "id": "0UL698fHGHLn",
        "outputId": "dcb4a895-e631-4fba-8e6a-2577fce46cb8"
      },
      "execution_count": 4,
      "outputs": [
        {
          "output_type": "execute_result",
          "data": {
            "text/plain": [
              "6.0"
            ]
          },
          "metadata": {},
          "execution_count": 4
        }
      ]
    },
    {
      "cell_type": "markdown",
      "source": [
        "## Objectives\n",
        "- List popular data science languages\n",
        "- List commonly used libraries\n",
        "- Demonstrate simple arithmetic in Python\n",
        "- Share notebook on GitHub\n"
      ],
      "metadata": {
        "id": "KaCsW2f2GO-P"
      }
    },
    {
      "cell_type": "markdown",
      "source": [
        "## Author\n",
        "Kaixuan Chen\n"
      ],
      "metadata": {
        "id": "uXWh4zF0GSZv"
      }
    }
  ]
}